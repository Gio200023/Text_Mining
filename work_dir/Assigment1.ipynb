{
 "cells": [
  {
   "cell_type": "code",
   "execution_count": 10,
   "metadata": {},
   "outputs": [],
   "source": [
    "from sklearn.pipeline import Pipeline\n",
    "from sklearn.datasets import fetch_20newsgroups\n",
    "from sklearn.naive_bayes import MultinomialNB\n",
    "from sklearn.linear_model import SGDClassifier\n",
    "from sklearn.linear_model import RidgeClassifier\n",
    "from sklearn.feature_extraction.text import CountVectorizer\n",
    "from sklearn.feature_extraction.text import TfidfTransformer\n",
    "import numpy as np"
   ]
  },
  {
   "cell_type": "code",
   "execution_count": 11,
   "metadata": {},
   "outputs": [],
   "source": [
    "def compareClassifiers(train_data, test_data):\n",
    "    clfByaes = Pipeline([\n",
    "        ('vect', CountVectorizer()),\n",
    "        ('tfidf', TfidfTransformer()),\n",
    "        ('clf', MultinomialNB(alpha=1e-3, fit_prior=False)),\n",
    "        ])\n",
    "    clfByaes.fit(train_data.data,train_data.target)\n",
    "    predictedBayes = clfByaes.predict(test_data.data)\n",
    "    print(np.mean(predictedBayes == test_data.target))\n",
    "\n",
    "    clfSGD = Pipeline([\n",
    "        ('vect', CountVectorizer()),\n",
    "        ('tfidf', TfidfTransformer()),\n",
    "        ('clf', SGDClassifier(loss='hinge', penalty='l2',\n",
    "                                alpha=1e-3, random_state=42,\n",
    "                                max_iter=5, tol=None)),\n",
    "        ])\n",
    "    clfSGD.fit(train_data.data,train_data.target)\n",
    "    predictedSGD = clfSGD.predict(test_data.data)\n",
    "    print(np.mean(predictedSGD == test_data.target))\n",
    "\n",
    "    clfBernoulliNB = Pipeline([\n",
    "        ('vect', CountVectorizer()),\n",
    "        ('tfidf', TfidfTransformer()),\n",
    "        ('clf', RidgeClassifier()),\n",
    "        ])\n",
    "    clfBernoulliNB.fit(train_data.data,train_data.target)\n",
    "    predictedBernoulliNB = clfBernoulliNB.predict(test_data.data)\n",
    "    print(np.mean(predictedBayes == test_data.target))"
   ]
  },
  {
   "cell_type": "code",
   "execution_count": 12,
   "metadata": {},
   "outputs": [],
   "source": [
    "# Categories\n",
    "categories = ['comp.graphics','comp.os.ms-windows.misc','comp.sys.ibm.pc.hardware','comp.sys.mac.hardware','comp.windows.x',\n",
    "              'rec.autos','rec.motorcycles','rec.sport.baseball','rec.sport.hockey',\n",
    "              'sci.crypt','sci.electronics','sci.med','sci.space',\n",
    "              'misc.forsale','talk.politics.misc','talk.politics.guns','talk.politics.mideast',\n",
    "              'talk.religion.misc','alt.atheism','soc.religion.christian']\n",
    "\n",
    "# Load train and test data \n",
    "twenty_train = fetch_20newsgroups(subset='train',\n",
    "    categories=categories, shuffle=True, random_state=42)\n",
    "twenty_test = fetch_20newsgroups(subset='test',\n",
    "    categories=categories, shuffle=True, random_state=42)"
   ]
  },
  {
   "cell_type": "code",
   "execution_count": 13,
   "metadata": {},
   "outputs": [
    {
     "name": "stdout",
     "output_type": "stream",
     "text": [
      "0.7738980350504514\n",
      "0.8248805098247477\n",
      "0.7738980350504514\n"
     ]
    }
   ],
   "source": [
    "# print(twenty_test.data)\n",
    "\n",
    "\n",
    "compareClassifiers(twenty_train,twenty_test)\n",
    "\n",
    "# for doc, category in zip(docs_new, predicted):\n",
    "#     print('%r => %s' % (doc, twenty_train.target_names[category]))\n",
    "\n",
    "\n",
    "# from sklearn import metrics\n",
    "# print(metrics.classification_report(twenty_test.target, predicted,\n",
    "#     target_names=twenty_test.target_names))\n",
    "\n",
    "# print(metrics.confusion_matrix(twenty_test.target, predicted))\n",
    "\n",
    "# from sklearn.model_selection import GridSearchCV\n",
    "# parameters = {\n",
    "#     'vect__ngram_range': [(1, 1), (1, 2)],\n",
    "#     'tfidf__use_idf': (True, False),\n",
    "#     'clf__alpha': (1e-2, 1e-3),\n",
    "# }\n",
    "\n",
    "# gs_clf = GridSearchCV(text_clf, parameters, cv=5, n_jobs=-1)\n",
    "\n",
    "# gs_clf = gs_clf.fit(twenty_train.data[:400], twenty_train.target[:400])\n",
    "\n",
    "# twenty_train.target_names[gs_clf.predict(['God is love'])[0]]\n",
    "\n",
    "# print(gs_clf.best_score_)\n",
    "\n",
    "# for param_name in sorted(parameters.keys()):\n",
    "#     print(\"%s: %r\" % (param_name, gs_clf.best_params_[param_name]))\n",
    "\n",
    "# print(gs_clf.cv_results_)\n"
   ]
  }
 ],
 "metadata": {
  "kernelspec": {
   "display_name": "venv",
   "language": "python",
   "name": "python3"
  },
  "language_info": {
   "codemirror_mode": {
    "name": "ipython",
    "version": 3
   },
   "file_extension": ".py",
   "mimetype": "text/x-python",
   "name": "python",
   "nbconvert_exporter": "python",
   "pygments_lexer": "ipython3",
   "version": "3.11.5"
  },
  "orig_nbformat": 4
 },
 "nbformat": 4,
 "nbformat_minor": 2
}
